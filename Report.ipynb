{
 "cells": [
  {
   "cell_type": "markdown",
   "metadata": {},
   "source": [
    "# Report\n",
    "## Method\n",
    "We implement a DDPG (Deep Deterministic Policy Gradient) algorithm for a continuous control task called Reacher.\n",
    "The DDPG algorithms is described as follows:\n",
    "1. Create a Actor specifying a parameterized actor function $a=\\mu(s_{t}|\\theta_{\\mu})$ to represent current policy by deterministically mapping states to specific action.\n",
    "2. Create a Critic to estimate the state-action value function, \n",
    "$$Q(s_t, a) = R_t + \\gamma Q(s_{t+1}, a) = R_t + \\gamma Q(s_{t+1}, \\mu(s_{t}|\\theta_{\\mu}))$$.\n",
    "3. The loss function of the critic is to estimate the Q(s_t, a), so we can use the mean square error as follows:\n",
    "$$(y_t - Q(s_t, \\mu(s_t)|\\theta_{Q}))^{2}$$\n",
    "where $y_t = R_t + \\gamma Q(s_{t+1}, \\mu(s_{t+1}))$.\n",
    "4. The goal of the actor is to maximize the return $J(\\theta_{\\mu}) = \\mathop{\\mathbb{E}}\\limits_{s_t} Q(s_t, \\mu(s_{t}|\\theta_{\\mu})|\\theta_{Q})$.\n",
    "\n",
    "## Implementation\n",
    "1. We implement the critic and the actor using 4 and 3 layer fully connected network respectively.\n",
    "2. Hyperparameters. buffer_size=20000, batch_size=128, lr=1e-4, gamma=0.99.\n",
    "\n",
    "## Plot of Average Return\n",
    "![average return](./experimental_results/return_curve.png)\n",
    "From the figure, we can see that in the 50th episode, the return is higher than 30.\n",
    "\n",
    "## Idea of Furture Work\n",
    "### 1. Use advantage function as the goal:\n",
    "$$A(s_t, a) = Q(s_t, a) - V(s_t)$$\n",
    "which can be estimated by the one-step return (TD-error) as following:\n",
    "$$A(s_t, a) = R_t + \\gamma V(s_{t+1}) - V(s_t) $$\n",
    "### 2. n-step return. \n",
    "The one-step return is calculated as following:\n",
    "$$Q_(s_t, a) = R_t + \\gamma Q(s_{t+1}, a)$$\n",
    "The two-step return is calculated as following:\n",
    "$$Q_(s_t, a) = R_t + \\gamma R_{t+1} + \\gamma^2 Q(s_{t+2}, a)$$\n",
    "The n-step return is calculated as following:\n",
    "$$Q_(s_t, a) = \\sum \\limits_{l=0}^{n-1} \\gamma^{l} R_{t+l} + \\gamma^l Q(s_{t+l}, a)$$"
   ]
  },
  {
   "cell_type": "code",
   "execution_count": 1,
   "metadata": {},
   "outputs": [
    {
     "name": "stderr",
     "output_type": "stream",
     "text": [
      "INFO:unityagents:\n",
      "'Academy' started successfully!\n",
      "Unity Academy name: Academy\n",
      "        Number of Brains: 1\n",
      "        Number of External Brains : 1\n",
      "        Lesson number : 0\n",
      "        Reset Parameters :\n",
      "\t\tgoal_speed -> 1.0\n",
      "\t\tgoal_size -> 5.0\n",
      "Unity brain name: ReacherBrain\n",
      "        Number of Visual Observations (per agent): 0\n",
      "        Vector Observation space type: continuous\n",
      "        Vector Observation space size (per agent): 33\n",
      "        Number of stacked Vector Observation: 1\n",
      "        Vector Action space type: continuous\n",
      "        Vector Action space size (per agent): 4\n",
      "        Vector Action descriptions: , , , \n"
     ]
    },
    {
     "name": "stdout",
     "output_type": "stream",
     "text": [
      "20\n"
     ]
    }
   ],
   "source": [
    "%load_ext autoreload\n",
    "%autoreload 2\n",
    "from tqdm import tqdm\n",
    "from model import *\n",
    "from unityagents import UnityEnvironment\n",
    "import numpy as np\n",
    "\n",
    "env = UnityEnvironment(file_name='./Reacher')\n",
    "\n",
    "# get the default brain\n",
    "brain_name = env.brain_names[0]\n",
    "brain = env.brains[brain_name]\n",
    "\n",
    "env_info = env.reset(train_mode=True)[brain_name]\n",
    "\n",
    "num_agents = len(env_info.agents)\n",
    "print(num_agents)"
   ]
  },
  {
   "cell_type": "code",
   "execution_count": 11,
   "metadata": {},
   "outputs": [
    {
     "name": "stdout",
     "output_type": "stream",
     "text": [
      "Load model successful\n",
      "The best average return of the pre-trained model: 38.5\n"
     ]
    }
   ],
   "source": [
    "agent = Agent(pre_trained=True)\n",
    "\n",
    "avg_scores = []\n",
    "best_scores = 30\n",
    "\n",
    "env_info = env.reset(train_mode=True)[brain_name]      # reset the environment    \n",
    "states = env_info.vector_observations                  # get the current state (for each agent)\n",
    "scores = np.zeros(num_agents)                          # initialize the score (for each agent)\n",
    "while True:\n",
    "    actions = agent.act(states)                        # select an action (for each agent)\n",
    "    env_info = env.step(actions)[brain_name]           # send all actions to tne environment\n",
    "    rewards = env_info.rewards                         # get reward (for each agent)\n",
    "    next_states = env_info.vector_observations         # get next state (for each agent)\n",
    "    dones = env_info.local_done                        # see if episode finished\n",
    "    scores += env_info.rewards                         # update the score (for each agent)\n",
    "    states = next_states                               # roll over states to next time step\n",
    "    if np.any(dones):                                  # exit loop if episode finished\n",
    "        break\n",
    "print(f\"The best average return of the pre-trained model: {scores.mean():.1f}\")"
   ]
  }
 ],
 "metadata": {
  "kernelspec": {
   "display_name": "Python 3",
   "language": "python",
   "name": "python3"
  },
  "language_info": {
   "codemirror_mode": {
    "name": "ipython",
    "version": 3
   },
   "file_extension": ".py",
   "mimetype": "text/x-python",
   "name": "python",
   "nbconvert_exporter": "python",
   "pygments_lexer": "ipython3",
   "version": "3.6.10"
  }
 },
 "nbformat": 4,
 "nbformat_minor": 4
}
